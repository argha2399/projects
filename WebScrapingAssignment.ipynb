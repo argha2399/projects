{
  "cells": [
    {
      "cell_type": "code",
      "execution_count": null,
      "metadata": {
        "id": "kOsekQkyzNBA",
        "outputId": "c9922de6-e38c-4010-b894-0bc7de388df1"
      },
      "outputs": [
        {
          "data": {
            "text/html": [
              "<div>\n",
              "<style scoped>\n",
              "    .dataframe tbody tr th:only-of-type {\n",
              "        vertical-align: middle;\n",
              "    }\n",
              "\n",
              "    .dataframe tbody tr th {\n",
              "        vertical-align: top;\n",
              "    }\n",
              "\n",
              "    .dataframe thead th {\n",
              "        text-align: right;\n",
              "    }\n",
              "</style>\n",
              "<table border=\"1\" class=\"dataframe\">\n",
              "  <thead>\n",
              "    <tr style=\"text-align: right;\">\n",
              "      <th></th>\n",
              "      <th>Domains</th>\n",
              "      <th>Link</th>\n",
              "      <th>Description</th>\n",
              "    </tr>\n",
              "  </thead>\n",
              "  <tbody>\n",
              "    <tr>\n",
              "      <th>0</th>\n",
              "      <td>godaddy.com</td>\n",
              "      <td>https://www.godaddy.com/en-in/domains</td>\n",
              "      <td>Search and buy available domain names - GoDaddy</td>\n",
              "    </tr>\n",
              "    <tr>\n",
              "      <th>1</th>\n",
              "      <td>namecheap.com</td>\n",
              "      <td>https://www.namecheap.com/domains/domain-name-...</td>\n",
              "      <td>Domain Name Search | Free Check Domain Availab...</td>\n",
              "    </tr>\n",
              "    <tr>\n",
              "      <th>2</th>\n",
              "      <td>hostinger.in</td>\n",
              "      <td>https://www.hostinger.in/domain-name-search</td>\n",
              "      <td>Domain Name Search: Check and Buy Available Do...</td>\n",
              "    </tr>\n",
              "    <tr>\n",
              "      <th>3</th>\n",
              "      <td>name.com</td>\n",
              "      <td>https://www.name.com/domain/search</td>\n",
              "      <td>Domain Name Search - Check Domain Availability...</td>\n",
              "    </tr>\n",
              "    <tr>\n",
              "      <th>4</th>\n",
              "      <td>domains.google</td>\n",
              "      <td>https://domains.google/intl/en_in/</td>\n",
              "      <td>Register Your Domain Name - Google Domains</td>\n",
              "    </tr>\n",
              "    <tr>\n",
              "      <th>...</th>\n",
              "      <td>...</td>\n",
              "      <td>...</td>\n",
              "      <td>...</td>\n",
              "    </tr>\n",
              "    <tr>\n",
              "      <th>94</th>\n",
              "      <td>zyro.com</td>\n",
              "      <td>https://zyro.com/domains</td>\n",
              "      <td>Buy a Domain Name - Register a Perfect Domain ...</td>\n",
              "    </tr>\n",
              "    <tr>\n",
              "      <th>95</th>\n",
              "      <td>zoho.com</td>\n",
              "      <td>https://www.zoho.com/mail/buy-domain.html</td>\n",
              "      <td>Buy a domain name for your business. - Zoho</td>\n",
              "    </tr>\n",
              "    <tr>\n",
              "      <th>96</th>\n",
              "      <td>hover.com</td>\n",
              "      <td>https://www.hover.com/</td>\n",
              "      <td>Domain Names | Buy Domains &amp; Email At Hover.com</td>\n",
              "    </tr>\n",
              "    <tr>\n",
              "      <th>97</th>\n",
              "      <td>one.com</td>\n",
              "      <td>https://www.one.com/en/domain</td>\n",
              "      <td>Buy domain names - One.com</td>\n",
              "    </tr>\n",
              "    <tr>\n",
              "      <th>98</th>\n",
              "      <td>domainr.com</td>\n",
              "      <td>https://domainr.com/</td>\n",
              "      <td>Domainr � fast, free, domain name search, shor...</td>\n",
              "    </tr>\n",
              "  </tbody>\n",
              "</table>\n",
              "<p>99 rows × 3 columns</p>\n",
              "</div>"
            ],
            "text/plain": [
              "            Domains                                               Link  \\\n",
              "0      godaddy.com               https://www.godaddy.com/en-in/domains   \n",
              "1    namecheap.com   https://www.namecheap.com/domains/domain-name-...   \n",
              "2     hostinger.in         https://www.hostinger.in/domain-name-search   \n",
              "3         name.com                  https://www.name.com/domain/search   \n",
              "4   domains.google                  https://domains.google/intl/en_in/   \n",
              "..              ...                                                ...   \n",
              "94        zyro.com                            https://zyro.com/domains   \n",
              "95        zoho.com           https://www.zoho.com/mail/buy-domain.html   \n",
              "96        hover.com                             https://www.hover.com/   \n",
              "97         one.com                       https://www.one.com/en/domain   \n",
              "98      domainr.com                               https://domainr.com/   \n",
              "\n",
              "                                          Description  \n",
              "0     Search and buy available domain names - GoDaddy  \n",
              "1   Domain Name Search | Free Check Domain Availab...  \n",
              "2   Domain Name Search: Check and Buy Available Do...  \n",
              "3   Domain Name Search - Check Domain Availability...  \n",
              "4          Register Your Domain Name - Google Domains  \n",
              "..                                                ...  \n",
              "94  Buy a Domain Name - Register a Perfect Domain ...  \n",
              "95        Buy a domain name for your business. - Zoho  \n",
              "96    Domain Names | Buy Domains & Email At Hover.com  \n",
              "97                         Buy domain names - One.com  \n",
              "98  Domainr � fast, free, domain name search, shor...  \n",
              "\n",
              "[99 rows x 3 columns]"
            ]
          },
          "execution_count": 79,
          "metadata": {},
          "output_type": "execute_result"
        }
      ],
      "source": [
        "import pandas as pd\n",
        "from bs4 import BeautifulSoup\n",
        "import requests\n",
        "import html5lib\n",
        "import warnings\n",
        "warnings.filterwarnings('ignore')\n",
        "url = 'https://www.google.com/search?q='\n",
        "query = 'domain%20name%20availability'\n",
        "\n",
        "def get_google_results(link, path):\n",
        "    \n",
        "    n_results = 100\n",
        "    response = requests.get(f'{link}+{path}&num={n_results}')\n",
        "    soup = BeautifulSoup(response.content, 'html5lib')\n",
        "\n",
        "    div = soup.find_all('div', class_=\"BNeawe vvjwJb AP7Wnd\")\n",
        "    description = []\n",
        "    for i in div:\n",
        "        description.append(i.getText())\n",
        "    #print(description)\n",
        "\n",
        "    from urllib.parse import urlparse\n",
        "\n",
        "\n",
        "    site = soup.find_all('div',class_=\"egMi0 kCrYT\")\n",
        "    link = []\n",
        "    for i in site:\n",
        "        url = i.find('a')['href']\n",
        "\n",
        "        split_link = url.split('=')[1].split('&')[0]\n",
        "        link.append(split_link)\n",
        "    #print(link)\n",
        "\n",
        "    div3 = soup.find_all('div',class_=\"BNeawe UPmit AP7Wnd lRVwie\")\n",
        "    domains = []\n",
        "    for i in div3:\n",
        "\n",
        "        domain1 = i.text.split('>')[0]\n",
        "        domain2 = domain1.split('›')[0]\n",
        "        try:\n",
        "            domain3 = domain2.split('www.')[1]\n",
        "        except:\n",
        "            domain3 = domain2\n",
        "        domains.append(domain3)\n",
        "    #print(domains)\n",
        "\n",
        "\n",
        "    data = pd.DataFrame({'Domains':domains, 'Link': link , 'Description': description})\n",
        "    #print(data)\n",
        "    return data\n",
        "\n",
        "url = 'https://www.google.com/search?q='\n",
        "query = 'domain%20name%20availability'\n",
        "get_google_results(url, query)\n"
      ]
    },
    {
      "cell_type": "code",
      "execution_count": null,
      "metadata": {
        "colab": {
          "base_uri": "https://localhost:8080/"
        },
        "id": "sBeC19vfxHfA",
        "outputId": "272a309c-511f-4a04-8e66-c98c96ed5cef"
      },
      "outputs": [
        {
          "name": "stdout",
          "output_type": "stream",
          "text": [
            "Requirement already satisfied: mysql-connector-python in c:\\users\\user\\miniforge3\\lib\\site-packages (8.0.27)\n",
            "Requirement already satisfied: protobuf>=3.0.0 in c:\\users\\user\\miniforge3\\lib\\site-packages (from mysql-connector-python) (3.19.4)\n"
          ]
        }
      ],
      "source": [
        "!pip install mysql-connector-python"
      ]
    },
    {
      "cell_type": "code",
      "execution_count": null,
      "metadata": {
        "id": "-z_skVm00SUt"
      },
      "outputs": [],
      "source": [
        "import mysql.connector"
      ]
    },
    {
      "cell_type": "code",
      "execution_count": null,
      "metadata": {
        "colab": {
          "base_uri": "https://localhost:8080/",
          "height": 971
        },
        "id": "1-llemFe0fUw",
        "outputId": "0117e3f7-a491-4929-afb2-b20f7687c6e3"
      },
      "outputs": [
        {
          "name": "stdout",
          "output_type": "stream",
          "text": [
            "<mysql.connector.connection_cext.CMySQLConnection object at 0x000001B116901BB0>\n"
          ]
        }
      ],
      "source": [
        "mydb = mysql.connector.connect(\n",
        "  host=\"localhost\",\n",
        "  user=\"root\",\n",
        "  password=\"Sengupta@25\"\n",
        ")\n",
        "\n",
        "print(mydb)\n"
      ]
    },
    {
      "cell_type": "code",
      "execution_count": null,
      "metadata": {
        "id": "ubCptelaDHtr",
        "outputId": "fb16d943-27bb-4ab4-d16d-7f70ab686a5c"
      },
      "outputs": [
        {
          "name": "stdout",
          "output_type": "stream",
          "text": [
            "Requirement already satisfied: sqlalchemy in c:\\users\\user\\miniforge3\\lib\\site-packages (1.4.27)\n",
            "Requirement already satisfied: greenlet!=0.4.17 in c:\\users\\user\\miniforge3\\lib\\site-packages (from sqlalchemy) (1.1.2)\n"
          ]
        }
      ],
      "source": [
        "!pip install sqlalchemy"
      ]
    },
    {
      "cell_type": "code",
      "execution_count": null,
      "metadata": {
        "id": "c9R9dGDdDHts",
        "outputId": "e77626ce-5c8e-46f0-ed4e-2da9283a430f"
      },
      "outputs": [
        {
          "name": "stdout",
          "output_type": "stream",
          "text": [
            "Requirement already satisfied: mysqlclient in c:\\users\\user\\miniforge3\\lib\\site-packages (2.1.1)\n"
          ]
        }
      ],
      "source": [
        "!pip install mysqlclient "
      ]
    },
    {
      "cell_type": "code",
      "execution_count": null,
      "metadata": {
        "id": "JqVzdcnqDHtt"
      },
      "outputs": [],
      "source": [
        "from sqlalchemy import create_engine\n",
        "from urllib.parse import quote_plus\n",
        "my_conn = create_engine('mysql+mysqldb://root:%s@localhost/Worksheet' % quote_plus('Sengupta@25'))"
      ]
    },
    {
      "cell_type": "code",
      "execution_count": null,
      "metadata": {
        "id": "YbHGotWrDHtu"
      },
      "outputs": [],
      "source": [
        "data.to_sql(con = my_conn, name = 'Domain_Name_Availability', if_exists = 'append', index = True)"
      ]
    },
    {
      "cell_type": "code",
      "execution_count": null,
      "metadata": {
        "id": "KW62MTBKDHtw"
      },
      "outputs": [],
      "source": []
    },
    {
      "cell_type": "code",
      "execution_count": null,
      "metadata": {
        "id": "zk2CYRffDHtw"
      },
      "outputs": [],
      "source": []
    },
    {
      "cell_type": "code",
      "execution_count": null,
      "metadata": {
        "id": "A7PfsHE-DHtx"
      },
      "outputs": [],
      "source": []
    },
    {
      "cell_type": "code",
      "execution_count": null,
      "metadata": {
        "id": "uvz2ScG1DHtx"
      },
      "outputs": [],
      "source": []
    },
    {
      "cell_type": "code",
      "execution_count": null,
      "metadata": {
        "id": "kQHCIzexDHty"
      },
      "outputs": [],
      "source": []
    }
  ],
  "metadata": {
    "colab": {
      "provenance": []
    },
    "kernelspec": {
      "display_name": "Python 3 (ipykernel)",
      "language": "python",
      "name": "python3"
    },
    "language_info": {
      "codemirror_mode": {
        "name": "ipython",
        "version": 3
      },
      "file_extension": ".py",
      "mimetype": "text/x-python",
      "name": "python",
      "nbconvert_exporter": "python",
      "pygments_lexer": "ipython3",
      "version": "3.9.7"
    }
  },
  "nbformat": 4,
  "nbformat_minor": 0
}